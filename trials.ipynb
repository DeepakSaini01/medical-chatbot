{
 "cells": [
  {
   "cell_type": "code",
   "execution_count": 3,
   "id": "d5a3a9e6",
   "metadata": {},
   "outputs": [],
   "source": [
    "# from langchain import PromptTemplate\n",
    "# from langchain.chains import RetrievalQA\n",
    "# from langchain.embeddings import HuggingFaceEmbeddings\n",
    "# from langchain.vectorstores import Pinecone\n",
    "from langchain.document_loaders import PyPDFLoader, DirectoryLoader\n",
    "from langchain.text_splitter import RecursiveCharacterTextSplitter\n",
    "# from langchain.llms import CTransformers  # Capitalization might be needed depending on version\n",
    "# # from langchain_community.vectorstores import Pinecone\n",
    "# import pinecone\n"
   ]
  },
  {
   "cell_type": "code",
   "execution_count": null,
   "id": "63284582",
   "metadata": {},
   "outputs": [],
   "source": []
  },
  {
   "cell_type": "code",
   "execution_count": null,
   "id": "27402e51",
   "metadata": {},
   "outputs": [],
   "source": [
    "def load_pdf(data):\n",
    "    loader=DirectoryLoader(data,\n",
    "                           glob=\"*.pdf\",\n",
    "                           loader_cls=PyPDFLoader)\n",
    "    \n",
    "    documents=loader.load()\n",
    "    return documents"
   ]
  },
  {
   "cell_type": "code",
   "execution_count": 5,
   "id": "e3ad925c",
   "metadata": {},
   "outputs": [],
   "source": [
    "extracted_data=load_pdf(\"data/\")"
   ]
  },
  {
   "cell_type": "code",
   "execution_count": 6,
   "id": "be88c9d0",
   "metadata": {},
   "outputs": [],
   "source": [
    "# external_data"
   ]
  },
  {
   "cell_type": "code",
   "execution_count": 7,
   "id": "755efee6",
   "metadata": {},
   "outputs": [],
   "source": [
    "def text_split(extracted_data):\n",
    "    text_splitter=RecursiveCharacterTextSplitter(chunk_size=500,chunk_overlap=20)\n",
    "    text_chunks=text_splitter.split_documents(extracted_data)\n",
    "    \n",
    "    return text_chunks"
   ]
  },
  {
   "cell_type": "code",
   "execution_count": 8,
   "id": "75a28a5f",
   "metadata": {},
   "outputs": [],
   "source": [
    "text_chunks=text_split(extracted_data)\n",
    "# print(\"length\",len(text_chunks))"
   ]
  },
  {
   "cell_type": "code",
   "execution_count": 9,
   "id": "305e229c",
   "metadata": {},
   "outputs": [],
   "source": [
    "from langchain.embeddings import HuggingFaceEmbeddings\n",
    "def download_hugging_face_embedding():\n",
    "    embeddings=HuggingFaceEmbeddings(model_name=\"sentence-transformers/all-MiniLM-L6-v2\")\n",
    "    return embeddings"
   ]
  },
  {
   "cell_type": "code",
   "execution_count": 10,
   "id": "c8f3e7cc",
   "metadata": {},
   "outputs": [
    {
     "name": "stderr",
     "output_type": "stream",
     "text": [
      "C:\\Users\\deepa\\AppData\\Local\\Temp\\ipykernel_4520\\876629269.py:3: LangChainDeprecationWarning: The class `HuggingFaceEmbeddings` was deprecated in LangChain 0.2.2 and will be removed in 1.0. An updated version of the class exists in the :class:`~langchain-huggingface package and should be used instead. To use it run `pip install -U :class:`~langchain-huggingface` and import as `from :class:`~langchain_huggingface import HuggingFaceEmbeddings``.\n",
      "  embeddings=HuggingFaceEmbeddings(model_name=\"sentence-transformers/all-MiniLM-L6-v2\")\n",
      "c:\\Users\\deepa\\OneDrive\\Desktop\\medical chatbot\\venv\\Lib\\site-packages\\tqdm\\auto.py:21: TqdmWarning: IProgress not found. Please update jupyter and ipywidgets. See https://ipywidgets.readthedocs.io/en/stable/user_install.html\n",
      "  from .autonotebook import tqdm as notebook_tqdm\n"
     ]
    }
   ],
   "source": [
    "embeddings=download_hugging_face_embedding()"
   ]
  },
  {
   "cell_type": "code",
   "execution_count": 11,
   "id": "614ef5ea",
   "metadata": {},
   "outputs": [
    {
     "data": {
      "text/plain": [
       "HuggingFaceEmbeddings(client=SentenceTransformer(\n",
       "  (0): Transformer({'max_seq_length': 256, 'do_lower_case': False, 'architecture': 'BertModel'})\n",
       "  (1): Pooling({'word_embedding_dimension': 384, 'pooling_mode_cls_token': False, 'pooling_mode_mean_tokens': True, 'pooling_mode_max_tokens': False, 'pooling_mode_mean_sqrt_len_tokens': False, 'pooling_mode_weightedmean_tokens': False, 'pooling_mode_lasttoken': False, 'include_prompt': True})\n",
       "  (2): Normalize()\n",
       "), model_name='sentence-transformers/all-MiniLM-L6-v2', cache_folder=None, model_kwargs={}, encode_kwargs={}, multi_process=False, show_progress=False)"
      ]
     },
     "execution_count": 11,
     "metadata": {},
     "output_type": "execute_result"
    }
   ],
   "source": [
    "embeddings"
   ]
  },
  {
   "cell_type": "code",
   "execution_count": 12,
   "id": "e8f4380b",
   "metadata": {},
   "outputs": [
    {
     "name": "stdout",
     "output_type": "stream",
     "text": [
      "length 384\n"
     ]
    }
   ],
   "source": [
    "query_result=embeddings.embed_query(\"hello\")\n",
    "print(\"length\",len(query_result))"
   ]
  },
  {
   "cell_type": "code",
   "execution_count": 13,
   "id": "c7ba3ac6",
   "metadata": {},
   "outputs": [
    {
     "data": {
      "text/plain": [
       "[-0.0627717599272728,\n",
       " 0.05495879426598549,\n",
       " 0.052164845168590546,\n",
       " 0.0857900083065033,\n",
       " -0.0827488973736763,\n",
       " -0.07457297295331955,\n",
       " 0.06855470687150955,\n",
       " 0.018396394327282906,\n",
       " -0.08201129734516144,\n",
       " -0.03738484904170036,\n",
       " 0.012124893255531788,\n",
       " 0.0035183229483664036,\n",
       " -0.004134293645620346,\n",
       " -0.04378441721200943,\n",
       " 0.021807299926877022,\n",
       " -0.00510272104293108,\n",
       " 0.019546564668416977,\n",
       " -0.0423487089574337,\n",
       " -0.11035966873168945,\n",
       " 0.005424527917057276,\n",
       " -0.055734783411026,\n",
       " 0.02805238962173462,\n",
       " -0.02315872348845005,\n",
       " 0.028481375426054,\n",
       " -0.05370955914258957,\n",
       " -0.052601538598537445,\n",
       " 0.03393925353884697,\n",
       " 0.045388635247945786,\n",
       " 0.023718422278761864,\n",
       " -0.07312081754207611,\n",
       " 0.05477774888277054,\n",
       " 0.0170473363250494,\n",
       " 0.08136039972305298,\n",
       " -0.0028627056162804365,\n",
       " 0.011958062648773193,\n",
       " 0.07355856150388718,\n",
       " -0.09423744678497314,\n",
       " -0.0813620463013649,\n",
       " 0.04001539200544357,\n",
       " 0.0006921913009136915,\n",
       " -0.01339334063231945,\n",
       " -0.05453811213374138,\n",
       " 0.005151401273906231,\n",
       " -0.026139769703149796,\n",
       " 0.0368071012198925,\n",
       " -0.03395958989858627,\n",
       " 0.021093212068080902,\n",
       " 0.055948879569768906,\n",
       " 0.05778130516409874,\n",
       " -0.0054183765314519405,\n",
       " -0.06841319799423218,\n",
       " -0.09023699164390564,\n",
       " -0.04286673292517662,\n",
       " 0.023652682080864906,\n",
       " 0.12149356305599213,\n",
       " 0.032392844557762146,\n",
       " -0.02265944518148899,\n",
       " -0.02328176610171795,\n",
       " 0.04886598512530327,\n",
       " -0.059351544827222824,\n",
       " -0.03406606614589691,\n",
       " 0.03596258535981178,\n",
       " -0.08115777373313904,\n",
       " -0.021979473531246185,\n",
       " 0.013187813572585583,\n",
       " -0.04585552215576172,\n",
       " -0.07041982561349869,\n",
       " -0.05260329321026802,\n",
       " -0.04802926629781723,\n",
       " -0.07454610615968704,\n",
       " -0.028731804341077805,\n",
       " 0.012831883504986763,\n",
       " -0.042921729385852814,\n",
       " 0.0053663537837564945,\n",
       " -0.03909760341048241,\n",
       " 0.015919268131256104,\n",
       " 0.020243527367711067,\n",
       " 0.0052666617557406425,\n",
       " 0.009581327438354492,\n",
       " -0.0047676158137619495,\n",
       " 0.04808773100376129,\n",
       " -0.07309659570455551,\n",
       " -0.05034444108605385,\n",
       " 0.009653042070567608,\n",
       " 0.013496600091457367,\n",
       " 0.00043035211274400353,\n",
       " 0.019725199788808823,\n",
       " 0.062495484948158264,\n",
       " -0.01822715625166893,\n",
       " 0.03109716810286045,\n",
       " -0.08885394781827927,\n",
       " 0.04813242703676224,\n",
       " 0.026074277237057686,\n",
       " -0.011494041420519352,\n",
       " -0.09936171025037766,\n",
       " -0.027338232845067978,\n",
       " 0.07621528953313828,\n",
       " -0.002096540527418256,\n",
       " -0.12358873337507248,\n",
       " 0.29806533455848694,\n",
       " 0.05630640685558319,\n",
       " 0.0784800797700882,\n",
       " 0.01104352530092001,\n",
       " 0.052400071173906326,\n",
       " -0.0011880238307639956,\n",
       " 0.000965684128459543,\n",
       " -0.05432729423046112,\n",
       " 0.02676473930478096,\n",
       " -0.012194258160889149,\n",
       " 0.010717053897678852,\n",
       " -3.707817450049333e-05,\n",
       " -0.035565707832574844,\n",
       " -0.03208553418517113,\n",
       " 0.016168801113963127,\n",
       " 0.08674969524145126,\n",
       " 0.018139464780688286,\n",
       " -0.01101755816489458,\n",
       " 0.04974030703306198,\n",
       " 0.02258104830980301,\n",
       " -2.2351243387674913e-05,\n",
       " 0.014939067885279655,\n",
       " -0.011176216416060925,\n",
       " 0.005659336689859629,\n",
       " -0.004114812705665827,\n",
       " 0.003182594431564212,\n",
       " 0.02386500872671604,\n",
       " 0.01805107854306698,\n",
       " -5.850476159002819e-33,\n",
       " 0.05610707402229309,\n",
       " -0.03449849784374237,\n",
       " 0.033111825585365295,\n",
       " 0.1677229106426239,\n",
       " -0.031038135290145874,\n",
       " -0.0048353467136621475,\n",
       " -0.06106499955058098,\n",
       " -0.06271100044250488,\n",
       " 0.027426589280366898,\n",
       " 0.06364015489816666,\n",
       " 0.043340425938367844,\n",
       " 0.06082936003804207,\n",
       " -0.018160779029130936,\n",
       " 0.04280414804816246,\n",
       " 0.019024066627025604,\n",
       " 0.08797787874937057,\n",
       " -0.039132826030254364,\n",
       " 0.04414263367652893,\n",
       " -0.004941055551171303,\n",
       " 0.051052697002887726,\n",
       " -0.05431916192173958,\n",
       " 0.011173113249242306,\n",
       " 0.0266990028321743,\n",
       " 0.07509659975767136,\n",
       " 0.048690132796764374,\n",
       " -0.04354275390505791,\n",
       " 0.01333867758512497,\n",
       " -0.10262981057167053,\n",
       " 0.05215669423341751,\n",
       " 0.02223237417638302,\n",
       " -0.029741793870925903,\n",
       " -0.04227066785097122,\n",
       " 0.022984562441706657,\n",
       " 0.03957443684339523,\n",
       " 0.009094778448343277,\n",
       " 0.020864685997366905,\n",
       " 0.00509262178093195,\n",
       " -0.06276409327983856,\n",
       " -0.05021766945719719,\n",
       " -0.005225018598139286,\n",
       " -0.05349820479750633,\n",
       " 0.029773466289043427,\n",
       " 0.021753670647740364,\n",
       " -0.020678048953413963,\n",
       " 0.023866144940257072,\n",
       " 0.005806638393551111,\n",
       " -0.0012137835146859288,\n",
       " 0.022660311311483383,\n",
       " 0.0031567111145704985,\n",
       " 0.030960429459810257,\n",
       " -0.05296808481216431,\n",
       " 0.01867694966495037,\n",
       " -0.1401534080505371,\n",
       " 0.04147820174694061,\n",
       " -0.010278256610035896,\n",
       " -0.011593146249651909,\n",
       " -0.033458251506090164,\n",
       " -0.05058891698718071,\n",
       " 0.04686781391501427,\n",
       " 0.024715127423405647,\n",
       " 0.03349681571125984,\n",
       " 0.11170760542154312,\n",
       " -0.0403486005961895,\n",
       " -0.0042844959534704685,\n",
       " -0.08074361085891724,\n",
       " -0.05611216649413109,\n",
       " 0.03833862021565437,\n",
       " 0.011508360505104065,\n",
       " 0.06873797625303268,\n",
       " -0.03811735659837723,\n",
       " -0.04598833993077278,\n",
       " -0.016439592465758324,\n",
       " 0.024412987753748894,\n",
       " 0.011722046881914139,\n",
       " 0.008168509230017662,\n",
       " 0.039036914706230164,\n",
       " 0.026186540722846985,\n",
       " 0.01048184558749199,\n",
       " 0.04286017641425133,\n",
       " -0.04638158529996872,\n",
       " 0.006481093820184469,\n",
       " 0.044423412531614304,\n",
       " -0.01883763261139393,\n",
       " 0.00726337032392621,\n",
       " 0.05617952719330788,\n",
       " 0.053477976471185684,\n",
       " -0.02148376777768135,\n",
       " -0.084485724568367,\n",
       " -0.012813972309231758,\n",
       " -0.039475537836551666,\n",
       " -0.05802653357386589,\n",
       " 0.03133402392268181,\n",
       " 0.045417316257953644,\n",
       " 0.011839081533253193,\n",
       " -0.017906315624713898,\n",
       " 4.586215086962156e-33,\n",
       " 0.13150791823863983,\n",
       " 0.07932813465595245,\n",
       " -0.09495951235294342,\n",
       " -0.024472175166010857,\n",
       " -0.055816203355789185,\n",
       " -0.009145256131887436,\n",
       " -0.032090410590171814,\n",
       " 0.11379317939281464,\n",
       " -0.14441627264022827,\n",
       " 0.00850959587842226,\n",
       " 0.030667033046483994,\n",
       " -0.01241487916558981,\n",
       " 0.07017052918672562,\n",
       " 0.028179822489619255,\n",
       " 0.04082208126783371,\n",
       " 0.019590837880969048,\n",
       " 0.14295044541358948,\n",
       " 0.0568699836730957,\n",
       " -0.040122076869010925,\n",
       " -0.017843913286924362,\n",
       " -0.06138443946838379,\n",
       " 0.0008760516648180783,\n",
       " -0.054906200617551804,\n",
       " -0.007102516014128923,\n",
       " -0.0004941486986353993,\n",
       " -0.013119390234351158,\n",
       " -0.0022669434547424316,\n",
       " 0.05856667086482048,\n",
       " -0.09971513599157333,\n",
       " -0.025532379746437073,\n",
       " 0.07856457680463791,\n",
       " 0.020517690107226372,\n",
       " -0.004633414093405008,\n",
       " 0.030302615836262703,\n",
       " 0.016833249479532242,\n",
       " 0.09143757820129395,\n",
       " 0.016769731417298317,\n",
       " -0.07980289310216904,\n",
       " 0.04251027852296829,\n",
       " -0.08439735323190689,\n",
       " -0.0238590519875288,\n",
       " 0.04701947048306465,\n",
       " 0.0024148565717041492,\n",
       " 0.10931778699159622,\n",
       " -0.03390537202358246,\n",
       " -0.06402090191841125,\n",
       " -0.037723854184150696,\n",
       " 0.029074762016534805,\n",
       " -0.04244937375187874,\n",
       " 0.015861935913562775,\n",
       " -0.09060660004615784,\n",
       " -0.05576631799340248,\n",
       " 0.022608749568462372,\n",
       " 0.008000322617590427,\n",
       " -0.02246999368071556,\n",
       " 0.022058147937059402,\n",
       " -0.025199150666594505,\n",
       " 0.03033953718841076,\n",
       " 0.010110795497894287,\n",
       " -0.018547305837273598,\n",
       " 0.016989590600132942,\n",
       " 0.0763101875782013,\n",
       " 0.0416206493973732,\n",
       " 0.08752065151929855,\n",
       " -0.012092760764062405,\n",
       " 0.03113519214093685,\n",
       " -0.03219042718410492,\n",
       " 0.012797970324754715,\n",
       " 0.013538764789700508,\n",
       " -0.02975240908563137,\n",
       " 0.03678983077406883,\n",
       " -0.005846079438924789,\n",
       " -0.01105553936213255,\n",
       " 0.03867030143737793,\n",
       " -0.02074146457016468,\n",
       " -0.011265086010098457,\n",
       " -0.023767532780766487,\n",
       " -0.009984560310840607,\n",
       " -0.023108458146452904,\n",
       " 0.012011353857815266,\n",
       " -0.010644523426890373,\n",
       " 0.0513606034219265,\n",
       " -0.02773405611515045,\n",
       " -0.00021139727323316038,\n",
       " 0.0009463390451855958,\n",
       " -0.03158264234662056,\n",
       " 0.051229290664196014,\n",
       " 0.04432860389351845,\n",
       " -0.003773423843085766,\n",
       " -0.04166809841990471,\n",
       " 0.02895456925034523,\n",
       " 0.03306133672595024,\n",
       " -0.015184277668595314,\n",
       " -0.00015773120685480535,\n",
       " -0.04412437602877617,\n",
       " -1.480350064753111e-08,\n",
       " -0.00869594607502222,\n",
       " 0.00013009380199946463,\n",
       " 0.01647108979523182,\n",
       " 0.05922885611653328,\n",
       " 0.04553878307342529,\n",
       " 0.03312685713171959,\n",
       " -0.09335850179195404,\n",
       " -0.03902722895145416,\n",
       " -0.020656151697039604,\n",
       " 0.012607559561729431,\n",
       " 0.06953950226306915,\n",
       " 0.07919187843799591,\n",
       " -0.07191091775894165,\n",
       " -0.0047850944101810455,\n",
       " 0.08800476789474487,\n",
       " 0.04758848249912262,\n",
       " -0.05219274014234543,\n",
       " -0.00752552505582571,\n",
       " -0.05771181359887123,\n",
       " -0.09295844286680222,\n",
       " -0.0045015024952590466,\n",
       " 0.001178039121441543,\n",
       " 0.02444724552333355,\n",
       " -0.06403965502977371,\n",
       " -0.0032275081612169743,\n",
       " -0.02796536311507225,\n",
       " -0.035407572984695435,\n",
       " 0.025036673992872238,\n",
       " -0.009852757677435875,\n",
       " 0.01325240544974804,\n",
       " 0.0011385205434635282,\n",
       " 0.17805425822734833,\n",
       " -0.036146294325590134,\n",
       " -0.007625906262546778,\n",
       " -0.032201241701841354,\n",
       " -0.042293235659599304,\n",
       " 0.004774454515427351,\n",
       " 0.02853180468082428,\n",
       " 0.07472298294305801,\n",
       " -0.014894150197505951,\n",
       " -0.056220654398202896,\n",
       " 0.02723579667508602,\n",
       " -0.011199447326362133,\n",
       " -0.1016678735613823,\n",
       " -0.019529249519109726,\n",
       " 0.027246462181210518,\n",
       " 0.03508107364177704,\n",
       " -0.0816056951880455,\n",
       " -0.0013377582654356956,\n",
       " -0.07635194808244705,\n",
       " -0.03995734825730324,\n",
       " 0.04078188166022301,\n",
       " 0.060128677636384964,\n",
       " 0.07254577428102493,\n",
       " 0.06967505812644958,\n",
       " 0.08909131586551666,\n",
       " 0.015957804396748543,\n",
       " -0.01487354189157486,\n",
       " -0.04674159735441208,\n",
       " -0.013411267660558224,\n",
       " 0.06513479351997375,\n",
       " 0.050905924290418625,\n",
       " 0.051483552902936935,\n",
       " 0.007092184852808714]"
      ]
     },
     "execution_count": 13,
     "metadata": {},
     "output_type": "execute_result"
    }
   ],
   "source": [
    "query_result"
   ]
  },
  {
   "cell_type": "code",
   "execution_count": 14,
   "id": "66503d73",
   "metadata": {},
   "outputs": [
    {
     "data": {
      "text/plain": [
       "True"
      ]
     },
     "execution_count": 14,
     "metadata": {},
     "output_type": "execute_result"
    }
   ],
   "source": [
    "from dotenv import load_dotenv\n",
    "import os\n",
    "load_dotenv()"
   ]
  },
  {
   "cell_type": "code",
   "execution_count": 15,
   "id": "e6f106d5",
   "metadata": {},
   "outputs": [],
   "source": [
    "PINECONE_API_KEY=os.environ.get(\"PINECONE_API_KEY\")"
   ]
  },
  {
   "cell_type": "code",
   "execution_count": 16,
   "id": "463431b0",
   "metadata": {},
   "outputs": [
    {
     "data": {
      "text/plain": [
       "{\n",
       "    \"name\": \"medicalbot\",\n",
       "    \"metric\": \"cosine\",\n",
       "    \"host\": \"medicalbot-lud9ekx.svc.aped-4627-b74a.pinecone.io\",\n",
       "    \"spec\": {\n",
       "        \"serverless\": {\n",
       "            \"cloud\": \"aws\",\n",
       "            \"region\": \"us-east-1\"\n",
       "        }\n",
       "    },\n",
       "    \"status\": {\n",
       "        \"ready\": true,\n",
       "        \"state\": \"Ready\"\n",
       "    },\n",
       "    \"vector_type\": \"dense\",\n",
       "    \"dimension\": 384,\n",
       "    \"deletion_protection\": \"disabled\",\n",
       "    \"tags\": null\n",
       "}"
      ]
     },
     "execution_count": 16,
     "metadata": {},
     "output_type": "execute_result"
    }
   ],
   "source": [
    "from pinecone.grpc import PineconeGRPC as Pinecone\n",
    "from pinecone import ServerlessSpec\n",
    "\n",
    "pc=Pinecone(api_key=PINECONE_API_KEY)\n",
    "\n",
    "index_name=\"medicalbot\"\n",
    "\n",
    "pc.create_index(\n",
    "    name=index_name,\n",
    "    dimension=384,\n",
    "    metric=\"cosine\",\n",
    "    spec=ServerlessSpec(\n",
    "        cloud=\"aws\",\n",
    "        region=\"us-east-1\"\n",
    "    )\n",
    ")"
   ]
  },
  {
   "cell_type": "code",
   "execution_count": 17,
   "id": "5a6ad37a",
   "metadata": {},
   "outputs": [],
   "source": [
    "import os \n",
    "os.environ[\"PINECONE_API_KEY\"]=PINECONE_API_KEY"
   ]
  },
  {
   "cell_type": "code",
   "execution_count": 18,
   "id": "5521e2dd",
   "metadata": {},
   "outputs": [],
   "source": [
    "from langchain_pinecone import PineconeVectorStore\n",
    "\n",
    "docsearch =PineconeVectorStore.from_documents(\n",
    "    documents=text_chunks,\n",
    "    index_name=index_name,\n",
    "    embedding=embeddings,\n",
    ")"
   ]
  },
  {
   "cell_type": "code",
   "execution_count": 19,
   "id": "10dd84e5",
   "metadata": {},
   "outputs": [],
   "source": [
    "from langchain_pinecone import PineconeVectorStore\n",
    "\n",
    "docsearch= PineconeVectorStore.from_existing_index(\n",
    "    index_name=index_name,\n",
    "    embedding=embeddings\n",
    ")"
   ]
  },
  {
   "cell_type": "code",
   "execution_count": 20,
   "id": "41a61625",
   "metadata": {},
   "outputs": [
    {
     "data": {
      "text/plain": [
       "<langchain_pinecone.vectorstores.PineconeVectorStore at 0x185636ea350>"
      ]
     },
     "execution_count": 20,
     "metadata": {},
     "output_type": "execute_result"
    }
   ],
   "source": [
    "docsearch\n"
   ]
  },
  {
   "cell_type": "code",
   "execution_count": 21,
   "id": "1439eb3a",
   "metadata": {},
   "outputs": [],
   "source": [
    "retriever=docsearch.as_retriever(search_type=\"similarity\",search_kwargs={\"k\":3})"
   ]
  },
  {
   "cell_type": "code",
   "execution_count": 22,
   "id": "a33a4819",
   "metadata": {},
   "outputs": [],
   "source": [
    "retriever_docs=retriever.invoke(\"What is acne?\")"
   ]
  },
  {
   "cell_type": "code",
   "execution_count": 23,
   "id": "0acfa104",
   "metadata": {},
   "outputs": [
    {
     "data": {
      "text/plain": [
       "[Document(id='ed73a99c-986b-416a-9a28-74f3f077f227', metadata={'creationdate': '2004-12-18T17:00:02-05:00', 'creator': 'PyPDF', 'moddate': '2004-12-18T16:15:31-06:00', 'page': 39.0, 'page_label': '40', 'producer': 'PDFlib+PDI 5.0.0 (SunOS)', 'source': 'data\\\\Medical_book.pdf', 'total_pages': 637.0}, page_content='GALE ENCYCLOPEDIA OF MEDICINE 226\\nAcne\\nGEM - 0001 to 0432 - A  10/22/03 1:41 PM  Page 26'),\n",
       " Document(id='d90e488e-9be0-48e2-8ef1-9585c50663ad', metadata={'creationdate': '2004-12-18T17:00:02-05:00', 'creator': 'PyPDF', 'moddate': '2004-12-18T16:15:31-06:00', 'page': 38.0, 'page_label': '39', 'producer': 'PDFlib+PDI 5.0.0 (SunOS)', 'source': 'data\\\\Medical_book.pdf', 'total_pages': 637.0}, page_content='GALE ENCYCLOPEDIA OF MEDICINE 2 25\\nAcne\\nAcne vulgaris affecting a woman’s face. Acne is the general\\nname given to a skin disorder in which the sebaceous\\nglands become inflamed. (Photograph by Biophoto Associ-\\nates, Photo Researchers, Inc. Reproduced by permission.)\\nGEM - 0001 to 0432 - A  10/22/03 1:41 PM  Page 25'),\n",
       " Document(id='d829a4fa-1a16-4c92-b9a7-40f951693292', metadata={'creationdate': '2004-12-18T17:00:02-05:00', 'creator': 'PyPDF', 'moddate': '2004-12-18T16:15:31-06:00', 'page': 37.0, 'page_label': '38', 'producer': 'PDFlib+PDI 5.0.0 (SunOS)', 'source': 'data\\\\Medical_book.pdf', 'total_pages': 637.0}, page_content='Acidosis see Respiratory acidosis; Renal\\ntubular acidosis; Metabolic acidosis\\nAcne\\nDefinition\\nAcne is a common skin disease characterized by\\npimples on the face, chest, and back. It occurs when the\\npores of the skin become clogged with oil, dead skin\\ncells, and bacteria.\\nDescription\\nAcne vulgaris, the medical term for common acne, is\\nthe most common skin disease. It affects nearly 17 million\\npeople in the United States. While acne can arise at any')]"
      ]
     },
     "execution_count": 23,
     "metadata": {},
     "output_type": "execute_result"
    }
   ],
   "source": [
    "retriever_docs"
   ]
  },
  {
   "cell_type": "code",
   "execution_count": 24,
   "id": "4831aa0a",
   "metadata": {},
   "outputs": [],
   "source": [
    "prompt_template=\"\"\"\n",
    "Use the following pieces of information to answer the user's question.\n",
    "If you don't know the answer, just say that you don't know, don't try to make up an answer.\n",
    "\n",
    "Context: {context}\n",
    "Question: {question}\n",
    "\n",
    "Only return the helpful answer below and nothing else.\n",
    "Helpful answer:\n",
    "\"\"\""
   ]
  },
  {
   "cell_type": "code",
   "execution_count": 25,
   "id": "3f5cc218",
   "metadata": {},
   "outputs": [],
   "source": [
    "from langchain.prompts import PromptTemplate\n",
    "\n",
    "PROMPT = PromptTemplate(\n",
    "    template=prompt_template,\n",
    "    input_variables=[\"context\", \"question\"]\n",
    ")\n"
   ]
  },
  {
   "cell_type": "code",
   "execution_count": 26,
   "id": "a96bd3cc",
   "metadata": {},
   "outputs": [],
   "source": [
    "from langchain.llms import CTransformers\n",
    "llm = CTransformers(\n",
    "    model=\"model/llama-2-7b-chat.ggmlv3.q2_K.bin\",\n",
    "    model_type=\"llama\",\n",
    "    config={\n",
    "        'max_new_tokens': 512,\n",
    "        'temperature': 0.8\n",
    "    }\n",
    ")\n"
   ]
  },
  {
   "cell_type": "code",
   "execution_count": 27,
   "id": "2330851d",
   "metadata": {},
   "outputs": [],
   "source": [
    "from langchain.chains import RetrievalQA\n",
    "\n",
    "qa=RetrievalQA.from_chain_type(\n",
    "    llm=llm,\n",
    "    chain_type=\"stuff\",\n",
    "    retriever=docsearch.as_retriever(search_kwargs={'k': 2}),\n",
    "    return_source_documents=True, \n",
    "   \n",
    ")"
   ]
  },
  {
   "cell_type": "code",
   "execution_count": 31,
   "id": "54f42769",
   "metadata": {},
   "outputs": [],
   "source": [
    "# while True:\n",
    "#     user_input=input(f\"Input Prompt:\")\n",
    "#     result=qa({'retriever_docs': user_input})\n",
    "#     print(\"response:\",result[\"result\"])"
   ]
  },
  {
   "cell_type": "code",
   "execution_count": null,
   "id": "6496438f",
   "metadata": {},
   "outputs": [],
   "source": [
    "import time\n",
    "\n",
    "while True:\n",
    "    user_input = input(\"Input Prompt: \")\n",
    "    print(\"Sending query...\")\n",
    "    start = time.time()\n",
    "    result = qa.invoke({'query': user_input})\n",
    "    end = time.time()\n",
    "    print(f\"Response received in {end - start:.2f} seconds\")\n",
    "    print(\"response:\", result[\"result\"])\n"
   ]
  }
 ],
 "metadata": {
  "kernelspec": {
   "display_name": "venv",
   "language": "python",
   "name": "python3"
  },
  "language_info": {
   "codemirror_mode": {
    "name": "ipython",
    "version": 3
   },
   "file_extension": ".py",
   "mimetype": "text/x-python",
   "name": "python",
   "nbconvert_exporter": "python",
   "pygments_lexer": "ipython3",
   "version": "3.13.1"
  }
 },
 "nbformat": 4,
 "nbformat_minor": 5
}
